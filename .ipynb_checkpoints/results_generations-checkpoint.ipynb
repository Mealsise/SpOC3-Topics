{
 "cells": [
  {
   "cell_type": "markdown",
   "metadata": {},
   "source": [
    "### Used to generate results for the paper and presentation"
   ]
  },
  {
   "cell_type": "code",
   "execution_count": 1,
   "metadata": {},
   "outputs": [],
   "source": [
    "import pygmo as pg\n",
    "import matplotlib.pyplot as plt\n",
    "import time # for time.time()\n",
    "from datetime import datetime\n",
    "from scipy.stats import ks_2samp, ttest_ind, levene\n",
    "\n",
    "from chromosome_operations import *\n",
    "from file_handling import *\n",
    "from output_helpers import *\n",
    "from population_operations import *\n",
    "from results_generators import *\n",
    "import importlib"
   ]
  },
  {
   "cell_type": "code",
   "execution_count": 2,
   "metadata": {},
   "outputs": [],
   "source": [
    "from problems.golomb_hard import udp as udp_large_halo\n",
    "from problems.golomb_medium import udp as udp_large_dro"
   ]
  },
  {
   "cell_type": "code",
   "execution_count": 3,
   "metadata": {},
   "outputs": [],
   "source": [
    "import problems.golomb_hard\n",
    "importlib.reload(problems.golomb_hard)\n",
    "from problems.golomb_hard import udp as udp_large_halo\n",
    "\n",
    "import results_generators\n",
    "importlib.reload(results_generators)\n",
    "from results_generators import *"
   ]
  },
  {
   "cell_type": "markdown",
   "metadata": {},
   "source": [
    "#### Swap out to get results for the large DRO problem"
   ]
  },
  {
   "cell_type": "code",
   "execution_count": 4,
   "metadata": {},
   "outputs": [],
   "source": [
    "UDP = udp_large_dro\n",
    "ORBIT_NAME = \"large-dro\"\n",
    "THEORETICAL_MAX = -2.7858\n",
    "ACHIEVED_MAX = -1.923"
   ]
  },
  {
   "cell_type": "markdown",
   "metadata": {},
   "source": [
    "#### Swap out to get results for the large HALO problem"
   ]
  },
  {
   "cell_type": "code",
   "execution_count": 5,
   "metadata": {},
   "outputs": [],
   "source": [
    "UDP = udp_large_halo\n",
    "ORBIT_NAME = \"large-halo\"\n",
    "THEORETICAL_MAX = -2.7858\n",
    "ACHIEVED_MAX = -1.596"
   ]
  },
  {
   "cell_type": "code",
   "execution_count": 6,
   "metadata": {},
   "outputs": [],
   "source": [
    "# figure_1(UDP, ORBIT_NAME)"
   ]
  },
  {
   "cell_type": "code",
   "execution_count": 7,
   "metadata": {},
   "outputs": [],
   "source": [
    "# figure_2(UDP, ORBIT_NAME, THEORETICAL_MAX, ACHIEVED_MAX)"
   ]
  },
  {
   "cell_type": "code",
   "execution_count": 8,
   "metadata": {},
   "outputs": [],
   "source": [
    "# figure_3(UDP, UDP, ORBIT_NAME)"
   ]
  },
  {
   "cell_type": "code",
   "execution_count": 9,
   "metadata": {},
   "outputs": [],
   "source": [
    "# figure_4(UDP, ORBIT_NAME)"
   ]
  },
  {
   "cell_type": "code",
   "execution_count": 10,
   "metadata": {},
   "outputs": [],
   "source": [
    "# figure_5(UDP, ORBIT_NAME, THEORETICAL_MAX, ACHIEVED_MAX)"
   ]
  },
  {
   "cell_type": "code",
   "execution_count": 11,
   "metadata": {},
   "outputs": [],
   "source": [
    "# figure_pres_1(UDP, ORBIT_NAME, THEORETICAL_MAX, ACHIEVED_MAX)"
   ]
  },
  {
   "cell_type": "code",
   "execution_count": 12,
   "metadata": {},
   "outputs": [],
   "source": [
    "# for_presentation(UDP, ORBIT_NAME)"
   ]
  },
  {
   "cell_type": "code",
   "execution_count": 13,
   "metadata": {},
   "outputs": [],
   "source": [
    "# for_table(UDP, ORBIT_NAME))"
   ]
  },
  {
   "cell_type": "code",
   "execution_count": null,
   "metadata": {},
   "outputs": [],
   "source": []
  }
 ],
 "metadata": {
  "kernelspec": {
   "display_name": "Python 3 (ipykernel)",
   "language": "python",
   "name": "python3"
  },
  "language_info": {
   "codemirror_mode": {
    "name": "ipython",
    "version": 3
   },
   "file_extension": ".py",
   "mimetype": "text/x-python",
   "name": "python",
   "nbconvert_exporter": "python",
   "pygments_lexer": "ipython3",
   "version": "3.10.12"
  }
 },
 "nbformat": 4,
 "nbformat_minor": 4
}
